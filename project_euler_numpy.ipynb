{
 "cells": [
  {
   "cell_type": "markdown",
   "metadata": {},
   "source": [
    "# Project Euler - NumPy\n",
    ">>**NOTE**: *I have currently stopped work on Project Euler, and probably will for some time to come. I still believe working out solutions to Project Euler with NumPy is both a great way to learn vectorized computing and one of the most performant ways of doing the calculations, but do not have to time to put in anymore.*\n",
    "\n",
    "This Jupyter Notebook contains solutions to Project Euler, planned for problems 51 to 75. For sake of practice, speed and ease of manipulation, these are done with the NumPy library, providing numerical arrays meant for fast computation.\n",
    "\n",
    "See:\n",
    "* [NumPy](http://www.numpy.org/), \"the fundamental package for scientific computing with Python\".\n",
    "* [pandas](http://pandas.pydata.org/), which provides \"high-performance, easy-to-use data structures and data analysis tools for Python.\"\n",
    "* [Tips on improving Python speed (Python wiki)](https://wiki.python.org/moin/PythonSpeed)\n",
    "* Stack Overflow - [Why NumPy instead of Python lists?](http://stackoverflow.com/questions/993984/why-numpy-instead-of-python-lists)"
   ]
  },
  {
   "cell_type": "code",
   "execution_count": 1,
   "metadata": {
    "collapsed": true
   },
   "outputs": [],
   "source": [
    "%matplotlib inline\n",
    "import numpy as np\n",
    "import pandas as pd\n",
    "import matplotlib.pyplot as plt"
   ]
  },
  {
   "cell_type": "markdown",
   "metadata": {},
   "source": [
    "## Problem 51: Prime digit replacements\n",
    "By replacing the 1st digit of the 2-digit number *3, it turns out that six of the nine possible values: 13, 23, 43, 53, 73, and 83, are all prime.\n",
    "\n",
    "By replacing the 3rd and 4th digits of 56**3 with the same digit, this 5-digit number is the first example having seven primes among the ten generated numbers, yielding the family: 56003, 56113, 56333, 56443, 56663, 56773, and 56993. Consequently 56003, being the first member of this family, is the smallest prime with this property.\n",
    "\n",
    "Find the smallest prime which, by replacing part of the number (not necessarily adjacent digits) with the same digit, is part of an eight prime value family.\n"
   ]
  },
  {
   "cell_type": "code",
   "execution_count": 41,
   "metadata": {},
   "outputs": [
    {
     "name": "stdout",
     "output_type": "stream",
     "text": [
      "[0 0 0 0 0 0 0 0 1] [1 0 0 0 0 0 0 0 0]\n"
     ]
    }
   ],
   "source": [
    "# Start with 9-digit numbers, go upwards from there.\n",
    "# Need to go through permutations of nnnnnnnn1, nnnnnnnn2, ...\n",
    "# nnnnnnn1n, nnnnnnn2n, etc.\n",
    "\n",
    "# Call these \"rotations\"? In numpy parlance, it's \"roll\".\n",
    "a = np.concatenate([np.zeros(9 - 1, np.int32) , np.array([1], np.int32)])\n",
    "b = np.roll(a,1)\n",
    "print(a, b)\n",
    "\n",
    "# For the zeros in those arrays, we try numbers range(1, 10)\n",
    "# and see if they're all prime. For the non-zeros in the array,\n",
    "# we iterate over digits range(10). If 9-digit numbers don't\n",
    "# work, we try with 10 digits, ans so on."
   ]
  }
 ],
 "metadata": {
  "anaconda-cloud": {},
  "kernelspec": {
   "display_name": "Python 3",
   "language": "python",
   "name": "python3"
  },
  "language_info": {
   "codemirror_mode": {
    "name": "ipython",
    "version": 3
   },
   "file_extension": ".py",
   "mimetype": "text/x-python",
   "name": "python",
   "nbconvert_exporter": "python",
   "pygments_lexer": "ipython3",
   "version": "3.6.1"
  }
 },
 "nbformat": 4,
 "nbformat_minor": 1
}
